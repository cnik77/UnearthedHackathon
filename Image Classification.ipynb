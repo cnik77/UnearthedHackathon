{
 "cells": [
  {
   "cell_type": "code",
   "execution_count": 1,
   "metadata": {},
   "outputs": [
    {
     "name": "stderr",
     "output_type": "stream",
     "text": [
      "Using TensorFlow backend.\n"
     ]
    }
   ],
   "source": [
    "from keras.preprocessing.image import ImageDataGenerator\n",
    "from keras.models import Sequential\n",
    "from keras.layers import Conv2D, MaxPooling2D\n",
    "from keras.layers import Activation, Dropout, Flatten, Dense\n",
    "\n",
    "model = Sequential()\n",
    "model.add(Conv2D(32, (3, 3), input_shape=( 150, 100,3)))\n",
    "model.add(Activation('relu'))\n",
    "model.add(MaxPooling2D(pool_size=(2, 2)))\n",
    "\n",
    "model.add(Conv2D(32, (3, 3)))\n",
    "model.add(Activation('relu'))\n",
    "model.add(MaxPooling2D(pool_size=(2, 2)))\n",
    "\n",
    "model.add(Conv2D(64, (3, 3)))\n",
    "model.add(Activation('relu'))\n",
    "model.add(MaxPooling2D(pool_size=(2, 2)))\n",
    "\n",
    "# the model so far outputs 3D feature maps (height, width, features)"
   ]
  },
  {
   "cell_type": "code",
   "execution_count": 2,
   "metadata": {
    "collapsed": true
   },
   "outputs": [],
   "source": [
    "model.add(Flatten())  # this converts our 3D feature maps to 1D feature vectors\n",
    "model.add(Dense(64))\n",
    "model.add(Activation('relu'))\n",
    "model.add(Dropout(0.5))\n",
    "model.add(Dense(1))\n",
    "model.add(Activation('sigmoid'))\n",
    "\n",
    "model.compile(loss='binary_crossentropy',\n",
    "              optimizer='rmsprop',\n",
    "              metrics=['accuracy'])"
   ]
  },
  {
   "cell_type": "code",
   "execution_count": 3,
   "metadata": {},
   "outputs": [
    {
     "name": "stdout",
     "output_type": "stream",
     "text": [
      "Found 407 images belonging to 2 classes.\n",
      "Found 60 images belonging to 2 classes.\n"
     ]
    }
   ],
   "source": [
    "batch_size = 16\n",
    "\n",
    "# this is the augmentation configuration we will use for training\n",
    "train_datagen = ImageDataGenerator(\n",
    "        rescale=1./255,\n",
    "        shear_range=0.2,\n",
    "        zoom_range=0.2,\n",
    "        horizontal_flip=True)\n",
    "\n",
    "# this is the augmentation configuration we will use for testing:\n",
    "# only rescaling\n",
    "test_datagen = ImageDataGenerator(rescale=1./255)\n",
    "\n",
    "# this is a generator that will read pictures found in\n",
    "# subfolers of 'data/train', and indefinitely generate\n",
    "# batches of augmented image data\n",
    "train_generator = train_datagen.flow_from_directory(\n",
    "        'cam/train',  # this is the target directory\n",
    "        target_size=(150, 100),  # all images will be resized to 150x150    # *** Change this based on size *** ;\n",
    "        batch_size=batch_size,\n",
    "        class_mode='binary')  # since we use binary_crossentropy loss, we need binary labels\n",
    "\n",
    "# this is a similar generator, for validation data\n",
    "validation_generator = test_datagen.flow_from_directory(\n",
    "        'cam/validation',\n",
    "        target_size=(150, 100),               # *** Change this based on size *** \n",
    "        batch_size=batch_size,\n",
    "        class_mode='binary')"
   ]
  },
  {
   "cell_type": "code",
   "execution_count": 4,
   "metadata": {},
   "outputs": [
    {
     "name": "stdout",
     "output_type": "stream",
     "text": [
      "Epoch 1/50\n",
      "25/25 [==============================] - 58s - loss: 0.7156 - acc: 0.5925 - val_loss: 0.6494 - val_acc: 0.5208\n",
      "Epoch 2/50\n",
      "25/25 [==============================] - 48s - loss: 0.6662 - acc: 0.6704 - val_loss: 0.6881 - val_acc: 0.5625\n",
      "Epoch 3/50\n",
      "25/25 [==============================] - 49s - loss: 0.6363 - acc: 0.6554 - val_loss: 0.5434 - val_acc: 0.6875\n",
      "Epoch 4/50\n",
      "25/25 [==============================] - 48s - loss: 0.5367 - acc: 0.7717 - val_loss: 0.4073 - val_acc: 0.8333\n",
      "Epoch 5/50\n",
      "25/25 [==============================] - 48s - loss: 0.5176 - acc: 0.7486 - val_loss: 0.3953 - val_acc: 0.7917\n",
      "Epoch 6/50\n",
      "25/25 [==============================] - 48s - loss: 0.4287 - acc: 0.8193 - val_loss: 0.5442 - val_acc: 0.7500\n",
      "Epoch 7/50\n",
      "25/25 [==============================] - 48s - loss: 0.4029 - acc: 0.8318 - val_loss: 0.3796 - val_acc: 0.9167\n",
      "Epoch 8/50\n",
      "25/25 [==============================] - 48s - loss: 0.5671 - acc: 0.7925 - val_loss: 0.3664 - val_acc: 0.8333\n",
      "Epoch 9/50\n",
      "25/25 [==============================] - 49s - loss: 0.2919 - acc: 0.8824 - val_loss: 0.5016 - val_acc: 0.7083\n",
      "Epoch 10/50\n",
      "25/25 [==============================] - 48s - loss: 0.3529 - acc: 0.8499 - val_loss: 0.3999 - val_acc: 0.7708\n",
      "Epoch 11/50\n",
      "25/25 [==============================] - 48s - loss: 0.3459 - acc: 0.8468 - val_loss: 0.2082 - val_acc: 0.9375\n",
      "Epoch 12/50\n",
      "25/25 [==============================] - 49s - loss: 0.2938 - acc: 0.8724 - val_loss: 0.2512 - val_acc: 0.9167\n",
      "Epoch 13/50\n",
      "25/25 [==============================] - 48s - loss: 0.3428 - acc: 0.8668 - val_loss: 0.3640 - val_acc: 0.8958\n",
      "Epoch 14/50\n",
      "25/25 [==============================] - 48s - loss: 0.3189 - acc: 0.8899 - val_loss: 0.1352 - val_acc: 0.9583\n",
      "Epoch 15/50\n",
      "25/25 [==============================] - 48s - loss: 0.2853 - acc: 0.8893 - val_loss: 0.3629 - val_acc: 0.8125\n",
      "Epoch 16/50\n",
      "25/25 [==============================] - 48s - loss: 0.3080 - acc: 0.8893 - val_loss: 0.3112 - val_acc: 0.8542\n",
      "Epoch 17/50\n",
      "25/25 [==============================] - 47s - loss: 0.2785 - acc: 0.8893 - val_loss: 0.1167 - val_acc: 0.9792\n",
      "Epoch 18/50\n",
      "25/25 [==============================] - 48s - loss: 0.2600 - acc: 0.9024 - val_loss: 0.1505 - val_acc: 0.9583\n",
      "Epoch 19/50\n",
      "25/25 [==============================] - 48s - loss: 0.2305 - acc: 0.9274 - val_loss: 0.1741 - val_acc: 0.9375\n",
      "Epoch 20/50\n",
      "25/25 [==============================] - 47s - loss: 0.2896 - acc: 0.8793 - val_loss: 0.2316 - val_acc: 0.8958\n",
      "Epoch 21/50\n",
      "25/25 [==============================] - 47s - loss: 0.2064 - acc: 0.9174 - val_loss: 0.2512 - val_acc: 0.9167\n",
      "Epoch 22/50\n",
      "25/25 [==============================] - 47s - loss: 0.2589 - acc: 0.8931 - val_loss: 0.3373 - val_acc: 0.8958\n",
      "Epoch 23/50\n",
      "25/25 [==============================] - 47s - loss: 0.2044 - acc: 0.9324 - val_loss: 0.2070 - val_acc: 0.9375\n",
      "Epoch 24/50\n",
      "25/25 [==============================] - 48s - loss: 0.1960 - acc: 0.9199 - val_loss: 0.3972 - val_acc: 0.8750\n",
      "Epoch 25/50\n",
      "25/25 [==============================] - 48s - loss: 0.2292 - acc: 0.9374 - val_loss: 0.2403 - val_acc: 0.9167\n",
      "Epoch 26/50\n",
      "25/25 [==============================] - 48s - loss: 0.2454 - acc: 0.9099 - val_loss: 0.2535 - val_acc: 0.8750\n",
      "Epoch 27/50\n",
      "25/25 [==============================] - 49s - loss: 0.2058 - acc: 0.9325 - val_loss: 0.1808 - val_acc: 0.9375\n",
      "Epoch 28/50\n",
      "25/25 [==============================] - 48s - loss: 0.2232 - acc: 0.9324 - val_loss: 0.2542 - val_acc: 0.9375\n",
      "Epoch 29/50\n",
      "25/25 [==============================] - 48s - loss: 0.1997 - acc: 0.9249 - val_loss: 0.2424 - val_acc: 0.8750\n",
      "Epoch 30/50\n",
      "25/25 [==============================] - 49s - loss: 0.1506 - acc: 0.9475 - val_loss: 0.2995 - val_acc: 0.8750\n",
      "Epoch 31/50\n",
      "25/25 [==============================] - 52s - loss: 0.2279 - acc: 0.9137 - val_loss: 0.3350 - val_acc: 0.8542\n",
      "Epoch 32/50\n",
      "25/25 [==============================] - 49s - loss: 0.1769 - acc: 0.9324 - val_loss: 0.3327 - val_acc: 0.8125\n",
      "Epoch 33/50\n",
      "25/25 [==============================] - 49s - loss: 0.1557 - acc: 0.9450 - val_loss: 0.2004 - val_acc: 0.9167\n",
      "Epoch 34/50\n",
      "25/25 [==============================] - 54s - loss: 0.1982 - acc: 0.9374 - val_loss: 0.3396 - val_acc: 0.8750\n",
      "Epoch 35/50\n",
      "25/25 [==============================] - 56s - loss: 0.1632 - acc: 0.9525 - val_loss: 0.4830 - val_acc: 0.8125\n",
      "Epoch 36/50\n",
      "25/25 [==============================] - 50s - loss: 0.1818 - acc: 0.9338 - val_loss: 0.1216 - val_acc: 0.9375\n",
      "Epoch 37/50\n",
      "25/25 [==============================] - 51s - loss: 0.2373 - acc: 0.9243 - val_loss: 0.1834 - val_acc: 0.9583\n",
      "Epoch 38/50\n",
      "25/25 [==============================] - 49s - loss: 0.1528 - acc: 0.9550 - val_loss: 0.2786 - val_acc: 0.9375\n",
      "Epoch 39/50\n",
      "25/25 [==============================] - 48s - loss: 0.1568 - acc: 0.9444 - val_loss: 0.2586 - val_acc: 0.9375\n",
      "Epoch 40/50\n",
      "25/25 [==============================] - 49s - loss: 0.2070 - acc: 0.9349 - val_loss: 0.2543 - val_acc: 0.9167\n",
      "Epoch 41/50\n",
      "25/25 [==============================] - 50s - loss: 0.1656 - acc: 0.9544 - val_loss: 0.2664 - val_acc: 0.9167\n",
      "Epoch 42/50\n",
      "25/25 [==============================] - 50s - loss: 0.1676 - acc: 0.9388 - val_loss: 0.0836 - val_acc: 0.9792\n",
      "Epoch 43/50\n",
      "25/25 [==============================] - 50s - loss: 0.1745 - acc: 0.9399 - val_loss: 0.2612 - val_acc: 0.8958\n",
      "Epoch 44/50\n",
      "25/25 [==============================] - 51s - loss: 0.1380 - acc: 0.9575 - val_loss: 0.3348 - val_acc: 0.9167\n",
      "Epoch 45/50\n",
      "25/25 [==============================] - 51s - loss: 0.1981 - acc: 0.9374 - val_loss: 0.1810 - val_acc: 0.9583\n",
      "Epoch 46/50\n",
      "25/25 [==============================] - 50s - loss: 0.1330 - acc: 0.9519 - val_loss: 0.1960 - val_acc: 0.9583\n",
      "Epoch 47/50\n",
      "25/25 [==============================] - 51s - loss: 0.2296 - acc: 0.9224 - val_loss: 0.0949 - val_acc: 0.9583\n",
      "Epoch 48/50\n",
      "25/25 [==============================] - 53s - loss: 0.1454 - acc: 0.9544 - val_loss: 0.0702 - val_acc: 0.9583\n",
      "Epoch 49/50\n",
      "25/25 [==============================] - 53s - loss: 0.2010 - acc: 0.9319 - val_loss: 0.2652 - val_acc: 0.8333\n",
      "Epoch 50/50\n",
      "25/25 [==============================] - 52s - loss: 0.0914 - acc: 0.9650 - val_loss: 0.1785 - val_acc: 0.9583\n"
     ]
    }
   ],
   "source": [
    "model.fit_generator(\n",
    "        train_generator,\n",
    "        steps_per_epoch=400 // batch_size,  # *** Change this based on total # of training images (schist + gneiss) *** \n",
    "        epochs=50,\n",
    "        validation_data=validation_generator,\n",
    "        validation_steps=60 // batch_size)  # *** Change this based on total # of validation images (schist + gneiss) *** \n",
    "model.save_weights('third_try.h5')  # always save your weights after training or during training"
   ]
  },
  {
   "cell_type": "code",
   "execution_count": 6,
   "metadata": {
    "collapsed": true
   },
   "outputs": [],
   "source": [
    "model.save('my_model_3.h5')"
   ]
  }
 ],
 "metadata": {
  "kernelspec": {
   "display_name": "Python 3",
   "language": "python",
   "name": "python3"
  },
  "language_info": {
   "codemirror_mode": {
    "name": "ipython",
    "version": 3
   },
   "file_extension": ".py",
   "mimetype": "text/x-python",
   "name": "python",
   "nbconvert_exporter": "python",
   "pygments_lexer": "ipython3",
   "version": "3.6.1"
  }
 },
 "nbformat": 4,
 "nbformat_minor": 2
}
