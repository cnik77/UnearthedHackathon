{
 "cells": [
  {
   "cell_type": "code",
   "execution_count": 31,
   "metadata": {
    "collapsed": true
   },
   "outputs": [],
   "source": [
    "from keras.models import load_model\n",
    "from keras.preprocessing.image import img_to_array, load_img\n",
    "import numpy as np\n",
    "from sklearn.metrics import confusion_matrix\n"
   ]
  },
  {
   "cell_type": "code",
   "execution_count": 32,
   "metadata": {
    "collapsed": true
   },
   "outputs": [],
   "source": [
    "test_model = load_model('my_model_3.h5')\n",
    "\n",
    "\n",
    "\n",
    "def mypred(filename):\n",
    "    img = load_img(filename,False,target_size=(150,100))\n",
    "    x = img_to_array(img)\n",
    "    x = np.expand_dims(x, axis=0)\n",
    "    preds = test_model.predict_classes(x)\n",
    "    prob = test_model.predict_proba(x)\n",
    "    print(preds, prob)\n",
    "    return preds\n"
   ]
  },
  {
   "cell_type": "code",
   "execution_count": 33,
   "metadata": {
    "collapsed": true
   },
   "outputs": [],
   "source": [
    "#file1_copper = 'data/train/copper/20170922_224218.jpg'\n",
    "#file2_copper = 'data/train/copper/20170922_231135.jpg'\n",
    "#file1_garbage = 'data/train/garbage/20170922_222112.jpg'\n",
    "#file2_garbage = 'data/train/garbage/20170922_214915.jpg'\n",
    "#file_val_copper = 'data/validation/copper/20170922_231845.jpg'\n",
    "#file_val_garbage = 'data/validation/garbage/20170922_235659.jpg'"
   ]
  },
  {
   "cell_type": "code",
   "execution_count": 4,
   "metadata": {
    "collapsed": true
   },
   "outputs": [],
   "source": [
    "waste = '../waste/2-B-3.jpg'\n",
    "copper = '../copper/B-1.JPG'\n",
    "\n",
    "copper_train = '../unclassified/Phone Pics/Ore/20170922_223227.jpg'"
   ]
  },
  {
   "cell_type": "code",
   "execution_count": 5,
   "metadata": {},
   "outputs": [
    {
     "ename": "NameError",
     "evalue": "name 'waste' is not defined",
     "output_type": "error",
     "traceback": [
      "\u001b[1;31m---------------------------------------------------------------------------\u001b[0m",
      "\u001b[1;31mNameError\u001b[0m                                 Traceback (most recent call last)",
      "\u001b[1;32m<ipython-input-5-c1c2bc411f31>\u001b[0m in \u001b[0;36m<module>\u001b[1;34m()\u001b[0m\n\u001b[1;32m----> 1\u001b[1;33m \u001b[0mmypred\u001b[0m\u001b[1;33m(\u001b[0m\u001b[0mwaste\u001b[0m\u001b[1;33m)\u001b[0m\u001b[1;33m\u001b[0m\u001b[0m\n\u001b[0m\u001b[0;32m      2\u001b[0m \u001b[0mmypred\u001b[0m\u001b[1;33m(\u001b[0m\u001b[0mcopper_train\u001b[0m\u001b[1;33m)\u001b[0m\u001b[1;33m\u001b[0m\u001b[0m\n",
      "\u001b[1;31mNameError\u001b[0m: name 'waste' is not defined"
     ]
    }
   ],
   "source": [
    "mypred(waste)\n",
    "mypred(copper_train)"
   ]
  },
  {
   "cell_type": "code",
   "execution_count": 34,
   "metadata": {
    "collapsed": true
   },
   "outputs": [],
   "source": [
    "import os\n",
    "def loadImages(folder= None):\n",
    "    return [filename for filename in os.listdir(folder)]\n",
    "        "
   ]
  },
  {
   "cell_type": "code",
   "execution_count": 35,
   "metadata": {},
   "outputs": [
    {
     "name": "stdout",
     "output_type": "stream",
     "text": [
      "Our Test set include 11 copper images and 12 waste images.\n"
     ]
    }
   ],
   "source": [
    "copperImages = loadImages('../Test - Final2/Ore')\n",
    "wasteImages = loadImages('../Test - Final2/Waste')\n",
    "n_copper = len(copperImages)\n",
    "n_waste = len(wasteImages)\n",
    "print('Our Test set include {} copper images and {} waste images.'.format(n_copper,n_waste))"
   ]
  },
  {
   "cell_type": "code",
   "execution_count": 38,
   "metadata": {
    "collapsed": true
   },
   "outputs": [],
   "source": [
    "def makePredictions(copperImages,wasteImages):\n",
    "    pred_copper = 0\n",
    "    pred_waste = 0\n",
    "    n_copper = len(copperImages)\n",
    "    n_waste = len(wasteImages)\n",
    "    labels = np.array([0] * n_copper + [1] * n_waste)\n",
    "    predictions = np.array([])\n",
    "    for filename in copperImages:\n",
    "        img = load_img('../Test - Final2/Ore/' + filename,False,target_size=(150,100))\n",
    "        x = img_to_array(img)\n",
    "        x = np.expand_dims(x, axis=0)\n",
    "        preds = test_model.predict_classes(x)\n",
    "        #print('predict',test_model.predict(x))\n",
    "        #print('predict_proba',test_model.predict_proba(x))\n",
    "        print('0 => ',preds[0][0])\n",
    "        predictions = np.append(predictions,preds[0][0])\n",
    "    for filename in wasteImages:\n",
    "        img = load_img('../Test - Final2/Waste/' + filename, False, target_size=(150,100))\n",
    "        x = img_to_array(img)\n",
    "        x = np.expand_dims(x, axis=0)\n",
    "        preds = test_model.predict_classes(x)\n",
    "        print('1 => ',preds[0][0])\n",
    "        predictions = np.append(predictions,preds[0][0])\n",
    "    return labels, predictions"
   ]
  },
  {
   "cell_type": "code",
   "execution_count": 39,
   "metadata": {},
   "outputs": [
    {
     "name": "stdout",
     "output_type": "stream",
     "text": [
      "1/1 [==============================] - 0s\n",
      "0 =>  1\n",
      "1/1 [==============================] - 0s\n",
      "0 =>  1\n",
      "1/1 [==============================] - 0s\n",
      "0 =>  1\n",
      "1/1 [==============================] - 0s\n",
      "0 =>  1\n",
      "1/1 [==============================] - 0s\n",
      "0 =>  0\n",
      "1/1 [==============================] - 0s\n",
      "0 =>  1\n",
      "1/1 [==============================] - 0s\n",
      "0 =>  1\n",
      "1/1 [==============================] - 0s\n",
      "0 =>  1\n",
      "1/1 [==============================] - 0s\n",
      "0 =>  1\n",
      "1/1 [==============================] - 0s\n",
      "0 =>  1\n",
      "1/1 [==============================] - 0s\n",
      "0 =>  1\n",
      "1/1 [==============================] - 0s\n",
      "1 =>  0\n",
      "1/1 [==============================] - 0s\n",
      "1 =>  1\n",
      "1/1 [==============================] - 0s\n",
      "1 =>  1\n",
      "1/1 [==============================] - 0s\n",
      "1 =>  0\n",
      "1/1 [==============================] - 0s\n",
      "1 =>  0\n",
      "1/1 [==============================] - 0s\n",
      "1 =>  1\n",
      "1/1 [==============================] - 0s\n",
      "1 =>  0\n",
      "1/1 [==============================] - 0s\n",
      "1 =>  1\n",
      "1/1 [==============================] - 0s\n",
      "1 =>  1\n",
      "1/1 [==============================] - 0s\n",
      "1 =>  1\n",
      "1/1 [==============================] - 0s\n",
      "1 =>  1\n",
      "1/1 [==============================] - 0s\n",
      "1 =>  0\n"
     ]
    }
   ],
   "source": [
    "labels, predictions = makePredictions(copperImages, wasteImages)"
   ]
  },
  {
   "cell_type": "code",
   "execution_count": 40,
   "metadata": {},
   "outputs": [
    {
     "data": {
      "text/plain": [
       "8"
      ]
     },
     "execution_count": 40,
     "metadata": {},
     "output_type": "execute_result"
    }
   ],
   "source": [
    "sum(labels == predictions)\n"
   ]
  },
  {
   "cell_type": "code",
   "execution_count": 41,
   "metadata": {},
   "outputs": [
    {
     "data": {
      "text/plain": [
       "array([ 1.,  1.,  1.,  1.,  0.,  1.,  1.,  1.,  1.,  1.,  1.,  0.,  1.,\n",
       "        1.,  0.,  0.,  1.,  0.,  1.,  1.,  1.,  1.,  0.])"
      ]
     },
     "execution_count": 41,
     "metadata": {},
     "output_type": "execute_result"
    }
   ],
   "source": [
    "predictions"
   ]
  },
  {
   "cell_type": "code",
   "execution_count": 42,
   "metadata": {},
   "outputs": [
    {
     "data": {
      "text/plain": [
       "17.0"
      ]
     },
     "execution_count": 42,
     "metadata": {},
     "output_type": "execute_result"
    }
   ],
   "source": [
    "sum(predictions)\n"
   ]
  },
  {
   "cell_type": "code",
   "execution_count": 43,
   "metadata": {},
   "outputs": [
    {
     "name": "stdout",
     "output_type": "stream",
     "text": [
      "1/1 [==============================] - 0s\n",
      "0 =>  1\n",
      "1/1 [==============================] - 0s\n",
      "0 =>  1\n",
      "1/1 [==============================] - 0s\n",
      "0 =>  1\n",
      "1/1 [==============================] - 0s\n",
      "0 =>  1\n",
      "1/1 [==============================] - 0s\n",
      "0 =>  0\n",
      "1/1 [==============================] - 0s\n",
      "0 =>  1\n",
      "1/1 [==============================] - 0s\n",
      "0 =>  1\n",
      "1/1 [==============================] - 0s\n",
      "0 =>  1\n",
      "1/1 [==============================] - 0s\n",
      "0 =>  1\n",
      "1/1 [==============================] - 0s\n",
      "0 =>  1\n",
      "1/1 [==============================] - 0s\n",
      "0 =>  1\n",
      "1/1 [==============================] - 0s\n",
      "1 =>  0\n",
      "1/1 [==============================] - 0s\n",
      "1 =>  1\n",
      "1/1 [==============================] - 0s\n",
      "1 =>  1\n",
      "1/1 [==============================] - 0s\n",
      "1 =>  0\n",
      "1/1 [==============================] - 0s\n",
      "1 =>  0\n",
      "1/1 [==============================] - 0s\n",
      "1 =>  1\n",
      "1/1 [==============================] - 0s\n",
      "1 =>  0\n",
      "1/1 [==============================] - 0s\n",
      "1 =>  1\n",
      "1/1 [==============================] - 0s\n",
      "1 =>  1\n",
      "1/1 [==============================] - 0s\n",
      "1 =>  1\n",
      "1/1 [==============================] - 0s\n",
      "1 =>  1\n",
      "1/1 [==============================] - 0s\n",
      "1 =>  0\n",
      "Predictions\n",
      "[ 1.  1.  1.  1.  0.  1.  1.  1.  1.  1.  1.  0.  1.  1.  0.  0.  1.  0.\n",
      "  1.  1.  1.  1.  0.]\n",
      "How many Waste Predicted\n",
      "17.0\n",
      "How many real Waste\n",
      "12\n",
      "How many matches\n",
      "8\n",
      "Real Waste: 12 Amount Predicted: 17.0\n",
      "Real Copper: 11 Amount Predicted: 6.0\n",
      "[[ 1 10]\n",
      " [ 5  7]]\n",
      "TN, FP\n",
      "FN, TP\n"
     ]
    }
   ],
   "source": [
    "labels, predictions = makePredictions(copperImages, wasteImages)\n",
    "print('Predictions')\n",
    "print(predictions)\n",
    "print('How many Waste Predicted')\n",
    "print(sum(predictions))\n",
    "print('How many real Waste')\n",
    "print(sum(labels))\n",
    "print('How many matches')\n",
    "print(sum(predictions == labels))\n",
    "print('Real Waste: {} Amount Predicted: {}'.format(n_waste,sum(predictions)))\n",
    "print('Real Copper: {} Amount Predicted: {}'.format(n_copper,len(labels)-sum(predictions)))\n",
    "print(confusion_matrix(labels,predictions))\n",
    "print('TN, FP')\n",
    "print('FN, TP')"
   ]
  }
 ],
 "metadata": {
  "kernelspec": {
   "display_name": "Python 3",
   "language": "python",
   "name": "python3"
  },
  "language_info": {
   "codemirror_mode": {
    "name": "ipython",
    "version": 3
   },
   "file_extension": ".py",
   "mimetype": "text/x-python",
   "name": "python",
   "nbconvert_exporter": "python",
   "pygments_lexer": "ipython3",
   "version": "3.6.1"
  }
 },
 "nbformat": 4,
 "nbformat_minor": 2
}
